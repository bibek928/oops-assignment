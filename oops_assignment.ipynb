{
  "nbformat": 4,
  "nbformat_minor": 0,
  "metadata": {
    "colab": {
      "provenance": []
    },
    "kernelspec": {
      "name": "python3",
      "display_name": "Python 3"
    },
    "language_info": {
      "name": "python"
    }
  },
  "cells": [
    {
      "cell_type": "code",
      "execution_count": null,
      "metadata": {
        "id": "I0skt_um7rpt"
      },
      "outputs": [],
      "source": [
        "#Question 1.\n",
        "class Animal:\n",
        "    def speak(self):\n",
        "        print(\"Some sound\")\n",
        "\n",
        "class Dog(Animal):\n",
        "    def speak(self):\n",
        "        print(\"Bark!\")"
      ]
    },
    {
      "cell_type": "code",
      "source": [
        "#Question 2.\n",
        "from abc import ABC, abstractmethod\n",
        "\n",
        "class Shape(ABC):\n",
        "    @abstractmethod\n",
        "    def area(self):\n",
        "        pass\n",
        "\n",
        "class Circle(Shape):\n",
        "    def __init__(self, radius):\n",
        "        self.radius = radius\n",
        "\n",
        "    def area(self):\n",
        "        return 3.14 * self.radius ** 2\n",
        "\n",
        "class Rectangle(Shape):\n",
        "    def __init__(self, l, w):\n",
        "        self.l = l\n",
        "        self.w = w\n",
        "\n",
        "    def area(self):\n",
        "        return self.l * self.w\n"
      ],
      "metadata": {
        "id": "UKEOn9RLGrZr"
      },
      "execution_count": null,
      "outputs": []
    },
    {
      "cell_type": "code",
      "source": [
        "#Question 3.\n",
        "class Vehicle:\n",
        "    def __init__(self, type):\n",
        "        self.type = type\n",
        "\n",
        "class Car(Vehicle):\n",
        "    def __init__(self, type, brand):\n",
        "        super().__init__(type)\n",
        "        self.brand = brand\n",
        "\n",
        "class ElectricCar(Car):\n",
        "    def __init__(self, type, brand, battery):\n",
        "        super().__init__(type, brand)\n",
        "        self.battery = battery"
      ],
      "metadata": {
        "id": "cnmTjkDiGrq7"
      },
      "execution_count": null,
      "outputs": []
    },
    {
      "cell_type": "code",
      "source": [
        "#Question 4.\n",
        "class Bird:\n",
        "    def fly(self):\n",
        "        print(\"Flying\")\n",
        "\n",
        "class Sparrow(Bird):\n",
        "    def fly(self):\n",
        "        print(\"Sparrow flies\")\n",
        "\n",
        "class Penguin(Bird):\n",
        "    def fly(self):\n",
        "        print(\"Penguins can't fly\")\n"
      ],
      "metadata": {
        "id": "MXvVc8SCGr78"
      },
      "execution_count": null,
      "outputs": []
    },
    {
      "cell_type": "code",
      "source": [
        "#Question 5.\n",
        "class BankAccount:\n",
        "    def __init__(self):\n",
        "        self.__balance = 0\n",
        "\n",
        "    def deposit(self, amount):\n",
        "        self.__balance += amount\n",
        "\n",
        "    def withdraw(self, amount):\n",
        "        if amount <= self.__balance:\n",
        "            self.__balance -= amount\n",
        "\n",
        "    def get_balance(self):\n",
        "        return self.__balance"
      ],
      "metadata": {
        "id": "pOU6fVafGsMC"
      },
      "execution_count": null,
      "outputs": []
    },
    {
      "cell_type": "code",
      "source": [
        "#Question 6.\n",
        "class Instrument:\n",
        "    def play(self):\n",
        "        print(\"Playing instrument\")\n",
        "\n",
        "class Guitar(Instrument):\n",
        "    def play(self):\n",
        "        print(\"Strumming guitar\")\n",
        "\n",
        "class Piano(Instrument):\n",
        "    def play(self):\n",
        "        print(\"Playing piano\")"
      ],
      "metadata": {
        "id": "-dCekk2yGscJ"
      },
      "execution_count": null,
      "outputs": []
    },
    {
      "cell_type": "code",
      "source": [
        "#Question 7.\n",
        "class MathOperations:\n",
        "    @classmethod\n",
        "    def add_numbers(cls, a, b):\n",
        "        return a + b\n",
        "\n",
        "    @staticmethod\n",
        "    def subtract_numbers(a, b):\n",
        "        return a - b"
      ],
      "metadata": {
        "id": "bawyz9BjPBD8"
      },
      "execution_count": null,
      "outputs": []
    },
    {
      "cell_type": "code",
      "source": [
        "#Question 8.\n",
        "class Person:\n",
        "    count = 0\n",
        "    def __init__(self):\n",
        "        Person.count += 1\n",
        "\n",
        "    @classmethod\n",
        "    def total_persons(cls):\n",
        "        return cls.count\n"
      ],
      "metadata": {
        "id": "6PilMBDZJg3G"
      },
      "execution_count": null,
      "outputs": []
    },
    {
      "cell_type": "code",
      "source": [
        "#Question 9.\n",
        "class Fraction:\n",
        "    def __init__(self, numerator, denominator):\n",
        "        self.numerator = numerator\n",
        "        self.denominator = denominator\n",
        "\n",
        "    def __str__(self):\n",
        "        return f\"{self.numerator}/{self.denominator}\"\n"
      ],
      "metadata": {
        "id": "ppHNrw6ZJg6E"
      },
      "execution_count": null,
      "outputs": []
    },
    {
      "cell_type": "code",
      "source": [
        "#Question 10.\n",
        "class Vector:\n",
        "    def __init__(self, x, y):\n",
        "        self.x = x\n",
        "        self.y = y\n",
        "\n",
        "    def __add__(self, other):\n",
        "        return Vector(self.x + other.x, self.y + other.y)\n",
        "\n",
        "    def __str__(self):\n",
        "        return f\"({self.x}, {self.y})\""
      ],
      "metadata": {
        "id": "WGxhWR-gJg9B"
      },
      "execution_count": null,
      "outputs": []
    },
    {
      "cell_type": "code",
      "source": [
        "#Question 11.\n",
        "class Person:\n",
        "    def __init__(self, name, age):\n",
        "        self.name = name\n",
        "        self.age = age\n",
        "\n",
        "    def greet(self):\n",
        "        print(f\"Hello, my name is {self.name} and I am {self.age} years old.\")"
      ],
      "metadata": {
        "id": "2dlG0mb6Jg_4"
      },
      "execution_count": null,
      "outputs": []
    },
    {
      "cell_type": "code",
      "source": [
        "#Question 12.\n",
        "class Student:\n",
        "    def __init__(self, name, grades):\n",
        "        self.name = name\n",
        "        self.grades = grades\n",
        "    def average_grade(self):\n",
        "        return sum(self.grades) / len(self.grades)\n"
      ],
      "metadata": {
        "id": "iTlduOvWJhCk"
      },
      "execution_count": null,
      "outputs": []
    },
    {
      "cell_type": "code",
      "source": [
        "#Question 13.\n",
        "class Rectangle:\n",
        "    def set_dimensions(self, l, w):\n",
        "        self.length = l\n",
        "        self.width = w\n",
        "\n",
        "    def area(self):\n",
        "        return self.length * self.width\n"
      ],
      "metadata": {
        "id": "sWScb8ZhJhFz"
      },
      "execution_count": null,
      "outputs": []
    },
    {
      "cell_type": "code",
      "source": [
        "#Question 14.\n",
        "class Employee:\n",
        "    def calculate_salary(self, hours, rate):\n",
        "        return hours * rate\n",
        "\n",
        "class Manager(Employee):\n",
        "    def calculate_salary(self, hours, rate, bonus):\n",
        "        return super().calculate_salary(hours, rate) + bonus"
      ],
      "metadata": {
        "id": "2jJf1vcjJhIb"
      },
      "execution_count": null,
      "outputs": []
    },
    {
      "cell_type": "code",
      "source": [
        "#Question 15.\n",
        "class Product:\n",
        "    def __init__(self, name, price, quantity):\n",
        "        self.name = name\n",
        "        self.price = price\n",
        "        self.quantity = quantity\n",
        "\n",
        "    def total_price(self):\n",
        "        return self.price * self.quantity"
      ],
      "metadata": {
        "id": "zBe7wO2eJhNX"
      },
      "execution_count": null,
      "outputs": []
    },
    {
      "cell_type": "code",
      "source": [
        "#Question 16.\n",
        "from abc import ABC, abstractmethod\n",
        "\n",
        "class Animal(ABC):\n",
        "    @abstractmethod\n",
        "    def sound(self):\n",
        "        pass\n",
        "\n",
        "class Cow(Animal):\n",
        "    def sound(self):\n",
        "        return \"Moo\"\n",
        "\n",
        "class Sheep(Animal):\n",
        "    def sound(self):\n",
        "        return \"Baa\"\n"
      ],
      "metadata": {
        "id": "peFeWTBRJhRg"
      },
      "execution_count": null,
      "outputs": []
    },
    {
      "cell_type": "code",
      "source": [
        "#Question 17.\n",
        "class Book:\n",
        "    def __init__(self, title, author, year_published):\n",
        "        self.title = title\n",
        "        self.author = author\n",
        "        self.year = year_published\n",
        "\n",
        "    def get_book_info(self):\n",
        "        return f\"{self.title} by {self.author} ({self.year})\"\n"
      ],
      "metadata": {
        "id": "2bXsby-8KUuA"
      },
      "execution_count": null,
      "outputs": []
    },
    {
      "cell_type": "code",
      "source": [
        "#Question 18.\n",
        "class House:\n",
        "    def __init__(self, address, price):\n",
        "        self.address = address\n",
        "        self.price = price\n",
        "\n",
        "class Mansion(House):\n",
        "    def __init__(self, address, price, number_of_rooms):\n",
        "        super().__init__(address, price)\n",
        "        self.number_of_rooms = number_of_rooms"
      ],
      "metadata": {
        "id": "koJ-4OkXKUxE"
      },
      "execution_count": null,
      "outputs": []
    },
    {
      "cell_type": "markdown",
      "source": [
        "1. What is Object-Oriented Programming (OOP)?\n",
        "   - OOP is a programming paradigm that organizes code into objects containing both data and functions, promoting reusability, scalability, and modularity.\n",
        "2. What is a class in OOP?\n",
        "   - A class is a blueprint for creating objects. It defines attributes and methods that its instances will have.\n",
        "3.What is an object in OOP?\n",
        "   - An object is an instance of a class. It encapsulates state (data) and behavior (methods).\n",
        "\n",
        "4. Difference between abstraction and encapsulation?\n",
        "   - Abstraction hides complexity by exposing only relevant details.\n",
        "   - Encapsulation restricts direct access to data using access modifiers.\n",
        "5. What are dunder methods in Python?\n",
        "  - Dunder methods (like __init__, __str__) are special methods with double underscores used to define behavior for built-in operations.\n",
        "\n",
        "6. Explain the concept of inheritance in OOP\n",
        "   - Inheritance allows one class to acquire properties and methods of another. It supports code reuse and hierarchy.\n",
        "\n",
        "7. What is polymorphism in OOP?\n",
        "   - Polymorphism allows different classes to be treated as instances of the same class through a common interface.\n",
        "\n",
        "8. How is encapsulation achieved in Python?\n",
        "   - Using private (__) and protected (_) variables and getter/setter methods.\n",
        "\n",
        "9. What is a constructor in Python?\n",
        "   - __init__() is a constructor used to initialize object attributes when an object is created.\n",
        "\n",
        "10. What are class and static methods in Python?\n",
        "\n",
        "    - Class methods use @classmethod and take cls as the first argument.\n",
        "\n",
        "    - Static methods use @staticmethod and don’t access class or instance data.\n",
        "\n",
        "11. What is method overloading in Python?\n",
        "    - Python doesn’t support true method overloading; you mimic it using default arguments or *args.\n",
        "\n",
        "12. What is method overriding in OOP?\n",
        "    - When a subclass redefines a method from the parent class to change or extend its behavior.\n",
        "\n",
        "13. What is a property decorator in Python?\n",
        "   - @property is used to define a method as a read-only property.\n",
        "\n",
        "14. Why is polymorphism important in OOP?\n",
        "   - It enables flexibility and scalability by allowing different objects to be treated uniformly.\n",
        "\n",
        "15. What is an abstract class in Python?\n",
        "   - A class using the abc module with abstract methods that must be implemented in child classes.\n",
        "\n",
        "16. Advantages of OOP\n",
        "\n",
        "  - Modularity\n",
        "  - Code Reusability\n",
        "  - Scalability\n",
        "  - Maintainability\n",
        "17. Difference between class variable and instance variable\n",
        "\n",
        "   - Class variable is shared across all instances.\n",
        "   - Instance variable is unique to each object.\n",
        "\n",
        "18. What is multiple inheritance in Python?\n",
        "   - A class inherits from more than one base class.\n",
        "19.  Purpose of __str__ and __repr__ methods\n",
        "   - __str__ returns a user-friendly string.\n",
        "   - __repr__ returns an unambiguous string for debugging.\n",
        "\n",
        "20. Significance of super() function\n",
        "   - It calls methods from the parent class, especially useful in method overriding.\n",
        "\n",
        "21. Significance of __del__ method\n",
        "   - Called when an object is deleted. Used for cleanup actions.\n",
        "\n",
        "22. Difference between @staticmethod and @classmethod\n",
        "  - @staticmethod: No access to class or instance data.\n",
        "  - @classmethod: Access to the class via cls.\n",
        "\n",
        "23. How does polymorphism work in Python with inheritance?\n",
        "   - By overriding parent methods in child classes and treating them through a common interface.\n",
        "\n",
        "24. What is method chaining in Python OOP?\n",
        "  - Returning self from methods to allow calling multiple methods in a single statement.\n",
        "\n",
        "25. Purpose of __call__ method\n",
        "   - Allows an object to be called like a function."
      ],
      "metadata": {
        "id": "erC8OA2g8DCr"
      }
    }
  ]
}